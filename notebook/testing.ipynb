{
 "cells": [
  {
   "cell_type": "code",
   "execution_count": 1,
   "id": "285739f5",
   "metadata": {},
   "outputs": [],
   "source": [
    "import torch\n",
    "import torch.nn as nn\n",
    "import torch.optim as optim\n",
    "from torch.utils.data import Dataset, DataLoader, random_split\n",
    "from torch.optim.lr_scheduler import CosineAnnealingLR\n",
    "# from torch.utils.tensorboard import SummaryWriter\n",
    "import torch.nn.functional as F\n",
    "\n",
    "from itertools import permutations \n",
    "from sklearn.metrics import multilabel_confusion_matrix\n",
    "import seaborn as sns\n",
    "from sklearn.metrics import multilabel_confusion_matrix, accuracy_score, precision_recall_fscore_support, hamming_loss, jaccard_score\n",
    "\n",
    "import numpy as np\n",
    "import matplotlib.pyplot as plt\n",
    "import os\n",
    "import pandas as pd\n",
    "import ica\n",
    "\n",
    "import trimesh\n",
    "\n",
    "import sys\n",
    "sys.path.append('/data/users2/yxiao11/model/satellite_project/')\n",
    "\n",
    "from moduler import *\n",
    "\n",
    "# import sys\n",
    "# sys.path.append('/data/users2/yxiao11/mangoDB/wirehead')\n",
    "# from wirehead import WireheadGenerator\n",
    "# from wirehead import MongoTupleheadDataset, MongoheadDataset\n",
    "\n",
    "# torch.set_printoptions(sci_mode=False)"
   ]
  },
  {
   "cell_type": "code",
   "execution_count": 2,
   "id": "ff48bc2a",
   "metadata": {},
   "outputs": [],
   "source": [
    "device = torch.device(\"cuda\" if torch.cuda.is_available() else \"cpu\")"
   ]
  },
  {
   "cell_type": "code",
   "execution_count": 3,
   "id": "2cd71490",
   "metadata": {
    "code_folding": []
   },
   "outputs": [],
   "source": [
    "def safe_load_numpy(file_path, retries=5, wait=0.1):\n",
    "    for attempt in range(retries):\n",
    "        try:\n",
    "            data = np.load(file_path)   # Attempt to load\n",
    "            return data                 # Success! Immediately returns\n",
    "        except (FileNotFoundError, OSError, ValueError) as e:\n",
    "            if attempt < retries - 1:   # Not the last attempt? Wait, then try again\n",
    "                time.sleep(wait)\n",
    "            else:                       # Last attempt and still fails\n",
    "                raise e\n",
    "                \n",
    "class get_dataset(Dataset):\n",
    "    def __init__(self, data_dir, labels_dir):\n",
    "        self.data_dir = data_dir\n",
    "        self.labels_dir = labels_dir\n",
    "\n",
    "    def __len__(self):\n",
    "        return len(self.data_dir)\n",
    "\n",
    "    def __getitem__(self, idx):\n",
    "        ipt = safe_load_numpy(self.data_dir[idx])\n",
    "#         ipt = (ipt - ipt.mean(axis=(1,2), keepdims=True)) / (ipt.std(axis=(1,2), keepdims=True)+ 1e-8)\n",
    "        ipt = torch.from_numpy(ipt)\n",
    "#         ipt,_,_ = ica.pca_whiten(ipt.reshape(100,-1), 10)\n",
    "#         ipt = torch.from_numpy(ipt.reshape(10,32,32))\n",
    "        label_index = torch.from_numpy(safe_load_numpy(self.labels_dir[idx])).long()\n",
    "        label = torch.zeros(71)\n",
    "        label[label_index] = 1\n",
    "\n",
    "        # label = torch.tensor([0, 1]).repeat(71, 1)\n",
    "        # label[label_index] = torch.tensor([1, 0])\n",
    "\n",
    "\n",
    "        \n",
    "        return ipt.float(), label.float()\n",
    "    \n",
    "\n"
   ]
  },
  {
   "cell_type": "code",
   "execution_count": null,
   "id": "4464648c",
   "metadata": {},
   "outputs": [],
   "source": []
  },
  {
   "cell_type": "code",
   "execution_count": null,
   "id": "1db9845b",
   "metadata": {},
   "outputs": [],
   "source": []
  },
  {
   "cell_type": "code",
   "execution_count": null,
   "id": "377f7375",
   "metadata": {},
   "outputs": [],
   "source": []
  },
  {
   "cell_type": "code",
   "execution_count": 65,
   "id": "4230287d",
   "metadata": {},
   "outputs": [
    {
     "name": "stdout",
     "output_type": "stream",
     "text": [
      "Total samples: 1000\n"
     ]
    }
   ],
   "source": [
    "# data_type = 'mixed'\n",
    "data_type = 'Pristine'\n",
    "# data_type = 'Irradiated'\n",
    "\n",
    "batch_size=10\n",
    "\n",
    "blur_dir = '/data/users2/yxiao11/model/satellite_project/data/' +data_type + '/blur_cube/'\n",
    "# blur_dir = '/data/users2/yxiao11/model/satellite_project/data/' +data_type + '/spectral_cube/'\n",
    "label_dir = '/data/users2/yxiao11/model/satellite_project/data/' +data_type + '/label/'\n",
    "\n",
    "blur_file = []\n",
    "label_file = []\n",
    "# spectral_file = []\n",
    "for i in range(len(os.listdir(blur_dir))):\n",
    "    blur_file.append(blur_dir + f\"{i}.npy\")\n",
    "    label_file.append(label_dir + f\"{i}.npy\")\n",
    "#     spectral_file.append(spectral_dir + f\"{i}.npy\")\n",
    "    \n",
    "# Load dataset\n",
    "my_dataset = get_dataset(blur_file, label_file)\n",
    "\n",
    "\n",
    "\n",
    "\n",
    "# # Define split ratio\n",
    "# train_size = int(0.1 * len(my_dataset))  # 10% training\n",
    "# test_size = len(my_dataset) - train_size  # 90% testing\n",
    "\n",
    "# # Randomly split dataset\n",
    "# my_dataset, test_dataset = random_split(my_dataset, [train_size, test_size])\n",
    "\n",
    "# Print dataset sizes\n",
    "print(f\"Total samples: {len(my_dataset)}\")\n",
    "# print(f\"Training samples: {len(train_dataset)}\")\n",
    "# print(f\"Testing samples: {len(test_dataset)}\")\n",
    "\n",
    "test_loader = DataLoader(my_dataset, batch_size=batch_size, shuffle=True)"
   ]
  },
  {
   "cell_type": "code",
   "execution_count": null,
   "id": "2277e9d5",
   "metadata": {},
   "outputs": [],
   "source": []
  },
  {
   "cell_type": "code",
   "execution_count": 70,
   "id": "2f90f993",
   "metadata": {
    "scrolled": true
   },
   "outputs": [
    {
     "name": "stderr",
     "output_type": "stream",
     "text": [
      "/tmp/ipykernel_2124829/426163923.py:5: FutureWarning: You are using `torch.load` with `weights_only=False` (the current default value), which uses the default pickle module implicitly. It is possible to construct malicious pickle data which will execute arbitrary code during unpickling (See https://github.com/pytorch/pytorch/blob/main/SECURITY.md#untrusted-models for more details). In a future release, the default value for `weights_only` will be flipped to `True`. This limits the functions that could be executed during unpickling. Arbitrary objects will no longer be allowed to be loaded via this mode unless they are explicitly allowlisted by the user via `torch.serialization.add_safe_globals`. We recommend you start setting `weights_only=True` for any use case where you don't have full control of the loaded file. Please open an issue on GitHub for any issues related to this experimental feature.\n",
      "  model = torch.load(\"/data/users2/yxiao11/model/satellite_project/resluts_n_model/model.pth\")\n"
     ]
    }
   ],
   "source": [
    "# device = torch.device(\"cuda\" if torch.cuda.is_available() else \"cpu\")\n",
    "# model = CubeModel(21, 19).to(device)\n",
    "\n",
    "# model = RNNFeatureExtractor(19, 0.1).to(device)\n",
    "model = torch.load(\"/data/users2/yxiao11/model/satellite_project/resluts_n_model/model.pth\")"
   ]
  },
  {
   "cell_type": "code",
   "execution_count": null,
   "id": "737c5941",
   "metadata": {},
   "outputs": [],
   "source": []
  },
  {
   "cell_type": "code",
   "execution_count": null,
   "id": "c2387d6a",
   "metadata": {},
   "outputs": [],
   "source": []
  },
  {
   "cell_type": "code",
   "execution_count": 80,
   "id": "300d8b42",
   "metadata": {
    "scrolled": false
   },
   "outputs": [
    {
     "data": {
      "image/png": "[encoded data removed]",
      "text/plain": [
       "<Figure size 2000x1000 with 1 Axes>"
      ]
     },
     "metadata": {},
     "output_type": "display_data"
    }
   ],
   "source": [
    "cube, labels = next(iter(test_loader))\n",
    "plt.figure(figsize=(20,10))\n",
    "plt.plot(F.sigmoid(model(cube.to(device)))[0].cpu().detach().numpy(),\n",
    "         marker='*', \n",
    "         markersize=10,\n",
    "         linestyle='-')\n",
    "\n",
    "\n",
    "\n",
    "plt.plot(labels[0], marker='*', linestyle='-')\n",
    "plt.legend(['predict', 'true'], fontsize=20)\n",
    "plt.yticks([0, 0.5, 0.6,0.7,0.8,0.9, 1], fontsize=20)\n",
    "\n",
    "\n",
    "\n",
    "plt.xticks([0,1,3,5,7,10,11,12,15,17,19,21,22,\n",
    "            30,31,34,35,36,40,43,47,51,54,57,59,64,67,70\n",
    "           ], \n",
    "           fontsize=10)\n",
    "plt.grid()\n",
    "\n"
   ]
  },
  {
   "cell_type": "code",
   "execution_count": null,
   "id": "d86dff2a",
   "metadata": {},
   "outputs": [],
   "source": []
  },
  {
   "cell_type": "code",
   "execution_count": null,
   "id": "56d34841",
   "metadata": {},
   "outputs": [],
   "source": [
    "# cube, labels = next(iter(test_loader))\n",
    "plt.imshow(cube[2][0])\n"
   ]
  },
  {
   "cell_type": "code",
   "execution_count": null,
   "id": "e4e43a30",
   "metadata": {},
   "outputs": [],
   "source": []
  },
  {
   "cell_type": "code",
   "execution_count": null,
   "id": "63c976da",
   "metadata": {},
   "outputs": [],
   "source": []
  },
  {
   "cell_type": "code",
   "execution_count": null,
   "id": "3237d50f",
   "metadata": {},
   "outputs": [],
   "source": []
  },
  {
   "cell_type": "code",
   "execution_count": null,
   "id": "d044d3db",
   "metadata": {
    "scrolled": true
   },
   "outputs": [],
   "source": [
    "model.eval()\n",
    "label_list = []\n",
    "preds_list = []\n",
    "\n",
    "with torch.no_grad():\n",
    "    for batch_idx, (cube, labels) in enumerate(test_loader):\n",
    "        print(batch_idx)\n",
    "        cube, labels = cube.to(device), labels.to(device)\n",
    "\n",
    "        # Forward pass\n",
    "#         outputs = torch.round(model(cube)).cpu()\n",
    "        outputs = torch.round(F.sigmoid(model(cube))).cpu()\n",
    "#         outputs = (F.sigmoid(model(cube))>0.7).cpu()\n",
    "\n",
    "#         probs = F.sigmoid(model(cube)).cpu()\n",
    "#         outputs = torch.zeros_like(probs)\n",
    "#         topk = torch.topk(probs, k=4, dim=1)\n",
    "#         indices = topk.indices\n",
    "#         for i in range(probs.size(0)):\n",
    "#             outputs[i, indices[i]] = 1\n",
    "#------------------\n",
    "#         # Forward pass\n",
    "#         probs = torch.sigmoid(model(cube)).cpu()\n",
    "#         outputs = torch.zeros_like(probs)\n",
    "\n",
    "#         for i in range(probs.size(0)):\n",
    "#             # Step 1: Get top 6 predictions to allow selection beyond top 3\n",
    "#             topk = torch.topk(probs[i], k=probs.size(1), largest=True)\n",
    "#             indices = topk.indices  # sorted indices\n",
    "#             values = topk.values    # sorted values\n",
    "\n",
    "#             # First three candidates\n",
    "#             top3_indices = indices[:34]\n",
    "#             top3_values = values[:34]\n",
    "\n",
    "#             # Rule: only keep the max of top 3 if it exceeds 0.5\n",
    "#             top3_max_val, top3_max_idx = torch.max(top3_values, dim=0)\n",
    "#             if top3_max_val > 0.6:\n",
    "#                 selected = [top3_indices[top3_max_idx].item()]\n",
    "#             else:\n",
    "#                 selected = []\n",
    "\n",
    "#             # Remove top 3 indices from consideration\n",
    "#             remaining_mask = torch.ones_like(probs[i], dtype=torch.bool)\n",
    "#             remaining_mask[top3_indices] = False\n",
    "#             remaining_probs = probs[i][remaining_mask]\n",
    "\n",
    "#             # Get top 2 from the rest\n",
    "#             top2_rest_values, top2_rest_indices = torch.topk(remaining_probs, k=2)\n",
    "\n",
    "#             # Map back to original indices\n",
    "#             remaining_indices = torch.arange(probs.size(1))[remaining_mask]\n",
    "#             top2_rest_original_indices = remaining_indices[top2_rest_indices]\n",
    "\n",
    "#             selected += top2_rest_original_indices.tolist()\n",
    "\n",
    "#             # Mark selected positions\n",
    "#             outputs[i, selected] = 1\n",
    "# #-----------------\n",
    "\n",
    "\n",
    "        labels = labels.cpu()\n",
    "        \n",
    "#         for i in range(batch_size):\n",
    "#             label_list.append(torch.argmin(labels[i], dim=1).detach().numpy())\n",
    "#             preds_list.append(torch.argmin(outputs[i], dim=1).detach().numpy())\n",
    "            \n",
    "        \n",
    "        for i in range(batch_size):\n",
    "            label_list.append(labels[i].detach().numpy())\n",
    "            preds_list.append(outputs[i].detach().numpy())"
   ]
  },
  {
   "cell_type": "code",
   "execution_count": null,
   "id": "8c9b14df",
   "metadata": {},
   "outputs": [],
   "source": []
  },
  {
   "cell_type": "code",
   "execution_count": null,
   "id": "1d3db0f1",
   "metadata": {},
   "outputs": [],
   "source": []
  },
  {
   "cell_type": "code",
   "execution_count": null,
   "id": "dd0fb10b",
   "metadata": {},
   "outputs": [],
   "source": []
  },
  {
   "cell_type": "code",
   "execution_count": null,
   "id": "f85bf07a",
   "metadata": {
    "scrolled": true
   },
   "outputs": [],
   "source": [
    "# idx = 2\n",
    "# print(F.sigmoid(model(cube))[idx])\n",
    "# print(labels[idx])\n"
   ]
  },
  {
   "cell_type": "code",
   "execution_count": null,
   "id": "7aa6bd6e",
   "metadata": {},
   "outputs": [],
   "source": [
    "# for d in preds_list:\n",
    "#     plt.plot(d, '.')\n",
    "#     plt.xticks(np.arange(19))"
   ]
  },
  {
   "cell_type": "code",
   "execution_count": null,
   "id": "00487cb1",
   "metadata": {},
   "outputs": [],
   "source": []
  },
  {
   "cell_type": "code",
   "execution_count": null,
   "id": "7a33f0ac",
   "metadata": {
    "scrolled": false
   },
   "outputs": [],
   "source": [
    "\n",
    "part_list = [f'material{i+1}' for i in range(71)]\n",
    "# part_list = ['body', 'body', 'body',\n",
    "#             'antenna', 'antenna', 'antenna',\n",
    "#              'antenna', 'antenna', 'antenna',\n",
    "#              'connector', 'connector','connector',\n",
    "#              'connector','connector','panel',\n",
    "#              'panel', 'panel', 'panel', 'panel'\n",
    "#             ]\n",
    "\n",
    "# Stack predictions and true labels\n",
    "y_true = np.vstack(label_list)  # True labels (multi-label)\n",
    "y_pred = np.vstack(preds_list)  # Predicted labels\n",
    "\n",
    "# Compute multi-label confusion matrices (one per class)\n",
    "conf_matrices = multilabel_confusion_matrix(y_true, y_pred)\n",
    "\n",
    "# 📌 **1️⃣ Better Confusion Matrix Layout (Grid instead of Single Row)**\n",
    "num_classes = len(conf_matrices)  # Should be 71\n",
    "cols = 5  # Set number of columns for grid\n",
    "rows = (num_classes // cols) + (num_classes % cols > 0)  # Auto adjust rows\n",
    "\n",
    "fig, axes = plt.subplots(rows, cols, figsize=(15, rows * 3))  # Dynamic grid size\n",
    "axes = axes.flatten()  # Flatten grid for easy indexing\n",
    "\n",
    "for i, cm in enumerate(conf_matrices):\n",
    "    sns.heatmap(cm, annot=True, fmt=\"d\", cmap=\"Blues\", ax=axes[i], cbar=False)\n",
    "#     axes[i].set_title(f\"Material {i+1}\\n{part_list[i]}\", fontsize=15)\n",
    "    axes[i].set_title(f\"{part_list[i]}\", fontsize=15)\n",
    "    axes[i].set_xlabel(\"Predicted\", fontsize=10)\n",
    "    axes[i].set_ylabel(\"Actual\", fontsize=10)\n",
    "    axes[i].tick_params(axis='both', labelsize=6)\n",
    "\n",
    "# Hide unused subplots (in case 19 is not a perfect grid)\n",
    "for j in range(i + 1, len(axes)):\n",
    "    fig.delaxes(axes[j])\n",
    "\n",
    "plt.tight_layout()\n",
    "plt.show()\n",
    "\n",
    "# Compute classification metrics\n",
    "accuracy_per_class = np.mean(y_true == y_pred, axis=0)  # Per-class accuracy\n",
    "_, _, f1, _ = precision_recall_fscore_support(y_true, y_pred, average=None)  # Per-class F1-score\n",
    "macro_f1 = np.mean(f1)  # Macro F1-score\n",
    "micro_f1 = precision_recall_fscore_support(y_true, y_pred, average=\"micro\")[2]  # Micro F1-score\n",
    "\n",
    "# Display Metrics\n",
    "# print(f\"Macro F1-Score: {macro_f1:.4f}\")\n",
    "# print(f\"Micro F1-Score: {micro_f1:.4f}\")\n",
    "\n",
    "# Plot accuracy and F1-score per class\n",
    "metrics = {\"Accuracy\": accuracy_per_class, \"F1-Score\": f1}\n",
    "fig, ax = plt.subplots(figsize=(20, 10))\n",
    "\n",
    "for metric, values in metrics.items():\n",
    "    ax.plot(range(1, len(values) + 1), values, marker=\"o\", label=metric)\n",
    "\n",
    "# ax.set_xticks(np.arange(len(f1)) + 1)\n",
    "ax.set_xticks(np.arange(len(f1)) + 1)  # positions: 0 to len(part_list)-1\n",
    "# ax.set_xticklabels(part_list, rotation=45, ha='center') \n",
    "\n",
    "ax.set_xlabel(\"Material Class\")\n",
    "ax.set_ylabel(\"Score\")\n",
    "ax.set_title(\"Accuracy and F1-Score per Class\", fontsize=16, fontweight=\"bold\")\n",
    "ax.legend()\n",
    "ax.grid(True, linestyle=\"-\", alpha=0.6)\n",
    "plt.show()\n"
   ]
  },
  {
   "cell_type": "code",
   "execution_count": null,
   "id": "2b6a95be",
   "metadata": {},
   "outputs": [],
   "source": []
  },
  {
   "cell_type": "code",
   "execution_count": null,
   "id": "d1c0aa9f",
   "metadata": {},
   "outputs": [],
   "source": []
  },
  {
   "cell_type": "code",
   "execution_count": null,
   "id": "10dda245",
   "metadata": {},
   "outputs": [],
   "source": []
  },
  {
   "cell_type": "code",
   "execution_count": null,
   "id": "ce97843e",
   "metadata": {},
   "outputs": [],
   "source": []
  },
  {
   "cell_type": "code",
   "execution_count": null,
   "id": "cf3ff053",
   "metadata": {},
   "outputs": [],
   "source": []
  },
  {
   "cell_type": "code",
   "execution_count": null,
   "id": "87c402d9",
   "metadata": {},
   "outputs": [],
   "source": []
  },
  {
   "cell_type": "code",
   "execution_count": null,
   "id": "f7fa14b6",
   "metadata": {
    "scrolled": true
   },
   "outputs": [],
   "source": [
    "idx = int(np.random.randint(0,1000))\n",
    "true = np.load(f'./database/Pristine/spectral_cube/{idx}.npy')\n",
    "blur = np.load(f'./database/Pristine/blur_cube/{idx}.npy')\n",
    "# np.where(np.argmin(np.load(f'./data/mixed/label/{idx}.npy'), 1)==1)\n",
    "print(np.load(f'./database/Pristine/label/{idx}.npy'))"
   ]
  },
  {
   "cell_type": "code",
   "execution_count": null,
   "id": "e2c9c59a",
   "metadata": {},
   "outputs": [],
   "source": []
  },
  {
   "cell_type": "code",
   "execution_count": null,
   "id": "4174baa6",
   "metadata": {},
   "outputs": [],
   "source": []
  },
  {
   "cell_type": "code",
   "execution_count": null,
   "id": "f16d7ce6",
   "metadata": {
    "scrolled": false
   },
   "outputs": [],
   "source": [
    "fig,ax = plt.subplots(5,2,figsize=(5,10))\n",
    "\n",
    "count = 0\n",
    "for i in range(0,20,4):\n",
    "    ax[count,0].imshow(true[i], 'gray')\n",
    "    ax[count,1].imshow(blur[i], 'gray')\n",
    "#     ax[i].imshow(blur[i])\n",
    "    count += 1"
   ]
  },
  {
   "cell_type": "code",
   "execution_count": null,
   "id": "11b4cc65",
   "metadata": {},
   "outputs": [],
   "source": []
  },
  {
   "cell_type": "code",
   "execution_count": null,
   "id": "c22a3f1b",
   "metadata": {},
   "outputs": [],
   "source": []
  },
  {
   "cell_type": "code",
   "execution_count": null,
   "id": "d13d0a48",
   "metadata": {},
   "outputs": [],
   "source": []
  },
  {
   "cell_type": "code",
   "execution_count": null,
   "id": "7c2a35b7",
   "metadata": {},
   "outputs": [],
   "source": []
  },
  {
   "cell_type": "code",
   "execution_count": null,
   "id": "2130522d",
   "metadata": {},
   "outputs": [],
   "source": []
  },
  {
   "cell_type": "code",
   "execution_count": null,
   "id": "0de5509e",
   "metadata": {},
   "outputs": [],
   "source": []
  },
  {
   "cell_type": "code",
   "execution_count": null,
   "id": "41ab2c95",
   "metadata": {},
   "outputs": [],
   "source": []
  },
  {
   "cell_type": "code",
   "execution_count": null,
   "id": "801a37b5",
   "metadata": {},
   "outputs": [],
   "source": []
  },
  {
   "cell_type": "code",
   "execution_count": null,
   "id": "484dbbd6",
   "metadata": {},
   "outputs": [],
   "source": []
  },
  {
   "cell_type": "code",
   "execution_count": null,
   "id": "028e986c",
   "metadata": {},
   "outputs": [],
   "source": []
  },
  {
   "cell_type": "code",
   "execution_count": null,
   "id": "d27dc7d5",
   "metadata": {},
   "outputs": [],
   "source": []
  },
  {
   "cell_type": "code",
   "execution_count": null,
   "id": "18bfef1f",
   "metadata": {},
   "outputs": [],
   "source": []
  },
  {
   "cell_type": "code",
   "execution_count": null,
   "id": "7cf24d04",
   "metadata": {},
   "outputs": [],
   "source": []
  }
 ],
 "metadata": {
  "kernelspec": {
   "display_name": "Python 3 (ipykernel)",
   "language": "python",
   "name": "python3"
  },
  "language_info": {
   "codemirror_mode": {
    "name": "ipython",
    "version": 3
   },
   "file_extension": ".py",
   "mimetype": "text/x-python",
   "name": "python",
   "nbconvert_exporter": "python",
   "pygments_lexer": "ipython3",
   "version": "3.8.20"
  }
 },
 "nbformat": 4,
 "nbformat_minor": 5
}
